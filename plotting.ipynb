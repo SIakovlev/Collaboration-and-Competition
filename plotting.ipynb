{
 "cells": [
  {
   "cell_type": "code",
   "execution_count": 3,
   "metadata": {
    "ExecuteTime": {
     "end_time": "2018-10-20T11:29:30.165442Z",
     "start_time": "2018-10-20T11:29:29.982266Z"
    }
   },
   "outputs": [],
   "source": [
    "%matplotlib widget\n",
    "import numpy as np\n",
    "import ipympl\n",
    "import matplotlib.pyplot as plt"
   ]
  },
  {
   "cell_type": "code",
   "execution_count": 4,
   "metadata": {
    "ExecuteTime": {
     "end_time": "2018-10-20T11:29:31.239442Z",
     "start_time": "2018-10-20T11:29:31.194152Z"
    }
   },
   "outputs": [],
   "source": [
    "rewards = np.load('./results/average_rewards_new_2018-11-14_00-56.dat')"
   ]
  },
  {
   "cell_type": "code",
   "execution_count": 3,
   "metadata": {
    "ExecuteTime": {
     "end_time": "2018-10-20T11:29:32.907012Z",
     "start_time": "2018-10-20T11:29:32.416351Z"
    }
   },
   "outputs": [],
   "source": [
    "cum_reward_mtx = np.zeros_like(reward_mtx)\n",
    "cum_reward_mtx_dueling_unifrom = np.zeros_like(reward_mtx_dueling_uniform)\n",
    "cum_reward_mtx_lr_decreasing = np.zeros_like(reward_mtx_lr_decreasing)\n",
    "cum_reward_mtx_dueling = np.zeros_like(reward_mtx_dueling)\n",
    "cum_reward_mtx_lr_const = np.zeros_like(reward_mtx_dqn_lr_const)\n",
    "for i in range(reward_mtx.shape[1]):\n",
    "    cum_reward_mtx[:, i] = np.sum(reward_mtx[:, 0:i], axis=1)\n",
    "    cum_reward_mtx_dueling_unifrom[:, i] = np.sum(reward_mtx_dueling_uniform[:, 0:i], axis=1)\n",
    "    cum_reward_mtx_lr_decreasing[:, i] = np.sum(reward_mtx_lr_decreasing[:, 0:i], axis=1)\n",
    "    cum_reward_mtx_dueling[:, i] = np.sum(reward_mtx_dueling[:, 0:i], axis=1)\n",
    "    cum_reward_mtx_lr_const[:, i] = np.sum(reward_mtx_dqn_lr_const[:, 0:i], axis=1)"
   ]
  },
  {
   "cell_type": "code",
   "execution_count": 4,
   "metadata": {
    "ExecuteTime": {
     "end_time": "2018-10-20T11:29:34.379290Z",
     "start_time": "2018-10-20T11:29:34.374320Z"
    }
   },
   "outputs": [],
   "source": [
    "reward_mtx_avg = np.convolve(cum_reward_mtx[:, -1], np.ones((100,))/100, mode='valid')\n",
    "reward_mtx_dueling_uniform_avg = np.convolve(cum_reward_mtx_dueling_unifrom[:, -1], np.ones((100,))/100, mode='valid')\n",
    "reward_mtx_lr_decreasing_avg = np.convolve(cum_reward_mtx_lr_decreasing[:, -1], np.ones((100,))/100, mode='valid')\n",
    "reward_mtx_dueling_avg = np.convolve(cum_reward_mtx_dueling[:, -1], np.ones((100,))/100, mode='valid')\n",
    "reward_mtx_dqn_lr_const_avg = np.convolve(cum_reward_mtx_lr_const[:, -1], np.ones((100,))/100, mode='valid')"
   ]
  },
  {
   "cell_type": "code",
   "execution_count": 6,
   "metadata": {
    "ExecuteTime": {
     "end_time": "2018-10-20T11:31:11.155126Z",
     "start_time": "2018-10-20T11:31:10.985204Z"
    }
   },
   "outputs": [
    {
     "data": {
      "application/vnd.jupyter.widget-view+json": {
       "model_id": "e5fe141ce67947c6b00c525702371f49",
       "version_major": 2,
       "version_minor": 0
      },
      "text/plain": [
       "FigureCanvasNbAgg()"
      ]
     },
     "metadata": {},
     "output_type": "display_data"
    }
   ],
   "source": [
    "plt.figure(figsize=(10, 5))\n",
    "plt.plot(rewards, 'b:')\n",
    "plt.plot(30*np.ones((200, )), 'k', linewidth=1.0)\n",
    "plt.ylim([0, 40])\n",
    "plt.xlim([0, 200])\n",
    "plt.rc('grid', linestyle=\":\", color='black')\n",
    "plt.grid(True)\n",
    "plt.legend([\"DDPG\"])\n",
    "plt.savefig('reward.png')\n",
    "plt.show()"
   ]
  }
 ],
 "metadata": {
  "kernelspec": {
   "display_name": "drlnd",
   "language": "python",
   "name": "drlnd"
  },
  "language_info": {
   "codemirror_mode": {
    "name": "ipython",
    "version": 3
   },
   "file_extension": ".py",
   "mimetype": "text/x-python",
   "name": "python",
   "nbconvert_exporter": "python",
   "pygments_lexer": "ipython3",
   "version": "3.6.7"
  }
 },
 "nbformat": 4,
 "nbformat_minor": 2
}
